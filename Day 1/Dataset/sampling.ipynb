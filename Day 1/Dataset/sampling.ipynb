{
 "cells": [
  {
   "cell_type": "code",
   "execution_count": 1,
   "source": [
    "import os\r\n",
    "import shutil\r\n",
    "import pandas as pd"
   ],
   "outputs": [],
   "metadata": {}
  },
  {
   "cell_type": "code",
   "execution_count": 2,
   "source": [
    "train_df = pd.read_csv('../../../train.csv')\r\n",
    "test_df = pd.read_csv('../../../test.csv')\r\n",
    "valid_df = pd.read_csv('../../../valid.csv')"
   ],
   "outputs": [],
   "metadata": {}
  },
  {
   "cell_type": "code",
   "execution_count": 3,
   "source": [
    "number_sample_train = int(train_df.shape[0]/2*0.25)\r\n",
    "label_mask = train_df.label==1\r\n",
    "train_mask = train_df[label_mask].index[:number_sample_train].append(train_df[~label_mask].index[:number_sample_train])\r\n",
    "\r\n",
    "number_sample_test = int(test_df.shape[0]/2*0.25)\r\n",
    "label_mask = test_df.label==1\r\n",
    "test_mask = test_df[label_mask].index[:number_sample_test].append(test_df[~label_mask].index[:number_sample_test])\r\n",
    "\r\n",
    "label_mask = valid_df.label==1\r\n",
    "valid_mask = valid_df[label_mask].index[:number_sample_test].append(valid_df[~label_mask].index[:number_sample_test])"
   ],
   "outputs": [],
   "metadata": {}
  },
  {
   "cell_type": "code",
   "execution_count": 4,
   "source": [
    "train_df_min = train_df.iloc[train_mask]\r\n",
    "test_df_min = test_df.iloc[test_mask]\r\n",
    "valid_df_min = valid_df.iloc[valid_mask]\r\n",
    "print(train_df_min.shape, test_df_min.shape, valid_df_min.shape, sep='\\n')"
   ],
   "outputs": [
    {
     "output_type": "stream",
     "name": "stdout",
     "text": [
      "(25000, 6)\n",
      "(5000, 6)\n",
      "(5000, 6)\n"
     ]
    }
   ],
   "metadata": {}
  },
  {
   "cell_type": "code",
   "execution_count": 30,
   "source": [
    "os.mkdir(\"train\")\r\n",
    "os.mkdir(\"train\\\\real\")\r\n",
    "os.mkdir(\"train\\\\fake\")\r\n",
    "\r\n",
    "for path in train_df_min.path:\r\n",
    "    shutil.copy(os.path.join('..\\..\\..\\\\real_vs_fake\\\\real-vs-fake',path), path)"
   ],
   "outputs": [],
   "metadata": {}
  },
  {
   "cell_type": "code",
   "execution_count": 31,
   "source": [
    "os.mkdir(\"test\")\r\n",
    "os.mkdir(\"test\\\\real\")\r\n",
    "os.mkdir(\"test\\\\fake\")\r\n",
    "\r\n",
    "for path in test_df_min.path:\r\n",
    "    shutil.copy(os.path.join('..\\..\\..\\\\real_vs_fake\\\\real-vs-fake',path), path)"
   ],
   "outputs": [],
   "metadata": {}
  },
  {
   "cell_type": "code",
   "execution_count": 32,
   "source": [
    "os.mkdir(\"valid\")\r\n",
    "os.mkdir(\"valid\\\\real\")\r\n",
    "os.mkdir(\"valid\\\\fake\")\r\n",
    "\r\n",
    "for path in valid_df_min.path:\r\n",
    "    shutil.copy(os.path.join('..\\..\\..\\\\real_vs_fake\\\\real-vs-fake',path), path)"
   ],
   "outputs": [],
   "metadata": {}
  },
  {
   "cell_type": "code",
   "execution_count": 5,
   "source": [
    "train_df_min.to_csv('train.csv')\r\n",
    "test_df_min.to_csv('test.csv')\r\n",
    "valid_df_min.to_csv('valid.csv')"
   ],
   "outputs": [],
   "metadata": {}
  }
 ],
 "metadata": {
  "orig_nbformat": 4,
  "language_info": {
   "name": "python",
   "version": "3.8.5",
   "mimetype": "text/x-python",
   "codemirror_mode": {
    "name": "ipython",
    "version": 3
   },
   "pygments_lexer": "ipython3",
   "nbconvert_exporter": "python",
   "file_extension": ".py"
  },
  "kernelspec": {
   "name": "python3",
   "display_name": "Python 3.8.5 64-bit ('base': conda)"
  },
  "interpreter": {
   "hash": "7833a8bf27c2ea12f03aca6e152ca6b7108fa4b7391b041e429c2c9763004a8b"
  }
 },
 "nbformat": 4,
 "nbformat_minor": 2
}